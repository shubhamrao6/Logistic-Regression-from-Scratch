{
 "cells": [
  {
   "cell_type": "code",
   "execution_count": 130,
   "metadata": {},
   "outputs": [],
   "source": [
    "import matplotlib.pyplot as plt\n",
    "import numpy as np"
   ]
  },
  {
   "cell_type": "code",
   "execution_count": 131,
   "metadata": {},
   "outputs": [
    {
     "name": "stdout",
     "output_type": "stream",
     "text": [
      "19\n",
      "19\n"
     ]
    }
   ],
   "source": [
    "x_train = np.array([-9,-8,-7,-6,-5,-4,-3,-2,-1,0,1,2,3,4,5,6,7,8,9])\n",
    "y_train = np.array([0,0,0,0,0,0,0,0,0,0,1,1,1,1,1,1,1,1,1])\n",
    "print(len(x_train))\n",
    "print(len(y_train))"
   ]
  },
  {
   "cell_type": "code",
   "execution_count": 132,
   "metadata": {},
   "outputs": [
    {
     "data": {
      "text/plain": [
       "<matplotlib.collections.PathCollection at 0xad1ab0b6a0>"
      ]
     },
     "execution_count": 132,
     "metadata": {},
     "output_type": "execute_result"
    },
    {
     "data": {
      "image/png": "[encoded data removed]",
      "text/plain": [
       "<matplotlib.figure.Figure at 0xad1aae7198>"
      ]
     },
     "metadata": {},
     "output_type": "display_data"
    }
   ],
   "source": [
    "plt.scatter(x_train,y_train)"
   ]
  },
  {
   "cell_type": "code",
   "execution_count": 133,
   "metadata": {},
   "outputs": [
    {
     "data": {
      "text/plain": [
       "[<matplotlib.lines.Line2D at 0xad1ab6a780>]"
      ]
     },
     "execution_count": 133,
     "metadata": {},
     "output_type": "execute_result"
    },
    {
     "data": {
      "image/png": "[encoded data removed]",
      "text/plain": [
       "<matplotlib.figure.Figure at 0xad1153dba8>"
      ]
     },
     "metadata": {},
     "output_type": "display_data"
    }
   ],
   "source": [
    "y = 1/(np.exp(-x_train)+1)\n",
    "plt.plot(x_train,1/(1+(np.exp(-x_train))))"
   ]
  },
  {
   "cell_type": "code",
   "execution_count": 134,
   "metadata": {},
   "outputs": [],
   "source": [
    "w = 0\n",
    "b = 0\n",
    "m = len(x_train)\n",
    "costs = []\n",
    "ws = []"
   ]
  },
  {
   "cell_type": "code",
   "execution_count": 135,
   "metadata": {},
   "outputs": [
    {
     "data": {
      "text/plain": [
       "array([0.5, 0.5, 0.5, 0.5, 0.5, 0.5, 0.5, 0.5, 0.5, 0.5, 0.5, 0.5, 0.5,\n",
       "       0.5, 0.5, 0.5, 0.5, 0.5, 0.5])"
      ]
     },
     "execution_count": 135,
     "metadata": {},
     "output_type": "execute_result"
    }
   ],
   "source": [
    "z = np.dot(w , x_train) + b\n",
    "a = 1 / (np.exp(-z) + 1)\n",
    "a"
   ]
  },
  {
   "cell_type": "code",
   "execution_count": 136,
   "metadata": {},
   "outputs": [
    {
     "data": {
      "text/plain": [
       "0.6931471805599452"
      ]
     },
     "execution_count": 136,
     "metadata": {},
     "output_type": "execute_result"
    }
   ],
   "source": [
    "cost = -1*((1/m)*(np.dot(y_train,np.log(a)) + np.dot((1 - y_train),np.log(1-a))))\n",
    "cost"
   ]
  },
  {
   "cell_type": "code",
   "execution_count": 137,
   "metadata": {},
   "outputs": [
    {
     "data": {
      "text/plain": [
       "0.02368421052631579"
      ]
     },
     "execution_count": 137,
     "metadata": {},
     "output_type": "execute_result"
    }
   ],
   "source": [
    "w -= 0.01*(1/m)*np.dot((a-y_train),x_train)\n",
    "w"
   ]
  },
  {
   "cell_type": "code",
   "execution_count": 138,
   "metadata": {},
   "outputs": [
    {
     "data": {
      "text/plain": [
       "-0.00026315789473684226"
      ]
     },
     "execution_count": 138,
     "metadata": {},
     "output_type": "execute_result"
    }
   ],
   "source": [
    "b -= 0.01*(1/m)*np.sum((y-y_train))\n",
    "b"
   ]
  },
  {
   "cell_type": "code",
   "execution_count": 139,
   "metadata": {},
   "outputs": [
    {
     "name": "stdout",
     "output_type": "stream",
     "text": [
      "0.6391469742214644\n",
      "0.14713714827778765\n",
      "0.11416796058789552\n",
      "0.0990328003030528\n",
      "0.08963894985080044\n",
      "0.08296819096087588\n",
      "0.07785259359015931\n",
      "0.07372968777404386\n",
      "0.07028959292331237\n",
      "0.06734515848918608\n"
     ]
    }
   ],
   "source": [
    "for i in range(1000):   \n",
    "    z = np.dot(w , x_train) + b\n",
    "    a = 1 / (np.exp(-z) + 1)\n",
    "    cost = -((1/m)*(np.dot(y_train,np.log(a)) + np.dot((1 - y_train),np.log(1-a))))\n",
    "    w -= 0.01*(1/m)*np.dot((a-y_train),x_train)\n",
    "    b -= 0.01*(1/m)*np.sum((y-y_train))\n",
    "    costs.append(cost)\n",
    "    ws.append(w)\n",
    "    if i%100==0:\n",
    "        print(cost)\n",
    "        costs.append(cost)\n",
    "        ws.append(w)"
   ]
  },
  {
   "cell_type": "code",
   "execution_count": 140,
   "metadata": {},
   "outputs": [
    {
     "name": "stdout",
     "output_type": "stream",
     "text": [
      "0.06477552050547114\n",
      "0.06249852485549086\n",
      "0.060456025900345906\n",
      "0.05860549915533782\n",
      "0.056914988985400004\n",
      "0.055359926472029516\n",
      "0.053921049073733296\n",
      "0.05258299686775176\n",
      "0.051333339202201705\n",
      "0.05016188363255455\n"
     ]
    }
   ],
   "source": [
    "for i in range(1000):   \n",
    "    z = np.dot(w , x_train) + b\n",
    "    a = 1 / (np.exp(-z) + 1)\n",
    "    cost = -((1/m)*(np.dot(y_train,np.log(a)) + np.dot((1 - y_train),np.log(1-a))))\n",
    "    w -= 0.01*(1/m)*np.dot((a-y_train),x_train)\n",
    "    b -= 0.01*(1/m)*np.sum((y-y_train))\n",
    "    costs.append(cost)\n",
    "    ws.append(w)\n",
    "    if i%100==0:\n",
    "        print(cost)\n",
    "        costs.append(cost)\n",
    "        ws.append(w)"
   ]
  },
  {
   "cell_type": "code",
   "execution_count": 141,
   "metadata": {},
   "outputs": [
    {
     "data": {
      "text/plain": [
       "(1.691438539487918, -0.5265789473684386)"
      ]
     },
     "execution_count": 141,
     "metadata": {},
     "output_type": "execute_result"
    }
   ],
   "source": [
    "w,b"
   ]
  },
  {
   "cell_type": "code",
   "execution_count": 142,
   "metadata": {},
   "outputs": [
    {
     "data": {
      "text/plain": [
       "[<matplotlib.lines.Line2D at 0xad1ab9f198>]"
      ]
     },
     "execution_count": 142,
     "metadata": {},
     "output_type": "execute_result"
    },
    {
     "data": {
      "image/png": "[encoded data removed]",
      "text/plain": [
       "<matplotlib.figure.Figure at 0xad1ab9f240>"
      ]
     },
     "metadata": {},
     "output_type": "display_data"
    }
   ],
   "source": [
    "plt.scatter(x_train,y_train)\n",
    "plt.plot(x_train,a)"
   ]
  },
  {
   "cell_type": "code",
   "execution_count": 143,
   "metadata": {},
   "outputs": [
    {
     "data": {
      "text/plain": [
       "<matplotlib.collections.PathCollection at 0xad178040b8>"
      ]
     },
     "execution_count": 143,
     "metadata": {},
     "output_type": "execute_result"
    },
    {
     "data": {
      "image/png": "[encoded data removed]",
      "text/plain": [
       "<matplotlib.figure.Figure at 0xad1aadfa90>"
      ]
     },
     "metadata": {},
     "output_type": "display_data"
    }
   ],
   "source": [
    "plt.scatter(ws,costs)"
   ]
  },
  {
   "cell_type": "code",
   "execution_count": null,
   "metadata": {},
   "outputs": [],
   "source": []
  }
 ],
 "metadata": {
  "kernelspec": {
   "display_name": "Python 3",
   "language": "python",
   "name": "python3"
  },
  "language_info": {
   "codemirror_mode": {
    "name": "ipython",
    "version": 3
   },
   "file_extension": ".py",
   "mimetype": "text/x-python",
   "name": "python",
   "nbconvert_exporter": "python",
   "pygments_lexer": "ipython3",
   "version": "3.6.4"
  }
 },
 "nbformat": 4,
 "nbformat_minor": 2
}
